{
 "cells": [
  {
   "cell_type": "code",
   "execution_count": 28,
   "id": "24f6ce05",
   "metadata": {
    "scrolled": false
   },
   "outputs": [
    {
     "name": "stderr",
     "output_type": "stream",
     "text": [
      "C:\\Users\\kevin\\AppData\\Local\\Temp\\ipykernel_41356\\2011641319.py:7: DtypeWarning: Columns (25) have mixed types. Specify dtype option on import or set low_memory=False.\n",
      "  df = pd.read_csv('Airbnb_Open_Data.csv', dtype={'host name':str})\n"
     ]
    },
    {
     "name": "stdout",
     "output_type": "stream",
     "text": [
      "{'central': 25, 'cosy': 0, 'sunny': 34, 'retreat': 5, 'safe': 0, 'lower': 2, 'studio': 48, 'modern': 2, 'large': 0, 'tidy': 0}\n"
     ]
    },
    {
     "data": {
      "image/png": "[encoded data removed]",
      "text/plain": [
       "<Figure size 640x480 with 1 Axes>"
      ]
     },
     "metadata": {},
     "output_type": "display_data"
    }
   ],
   "source": [
    "#Task 1 \n",
    "import pandas as pd\n",
    "import matplotlib.pyplot as plt\n",
    "import numpy as np\n",
    "\n",
    "# read in the dataset and specify the data type of the 'host name' column \n",
    "df = pd.read_csv('Airbnb_Open_Data.csv', dtype={'host name':str})\n",
    "\n",
    "def count_keyword(keyword):\n",
    "    df['host name'] = df['host name'].fillna('')\n",
    "    return df.loc[df['host name'].str.contains(keyword, case=False)]['id'].count()\n",
    "\n",
    "keywords = ['central', 'cosy', 'sunny', 'retreat', 'safe', 'lower', 'studio', 'modern', 'large', 'tidy']\n",
    "keyword_counts = {}\n",
    "\n",
    "for keyword in keywords:\n",
    "    keyword_counts[keyword] = count_keyword(keyword)\n",
    "    \n",
    "print(keyword_counts)\n",
    "\n",
    "plt.bar(keyword_counts.keys(), keyword_counts.values())\n",
    "plt.xlabel('Keyword')\n",
    "plt.ylabel('Number of Listings')\n",
    "plt.title('Number of Listings with Specific Keywords')\n",
    "plt.show()\n",
    "\n"
   ]
  },
  {
   "cell_type": "code",
   "execution_count": 12,
   "id": "b949b07d",
   "metadata": {},
   "outputs": [
    {
     "name": "stdout",
     "output_type": "stream",
     "text": [
      "[2 1 3 4]\n"
     ]
    }
   ],
   "source": [
    "#Task 2.\n",
    "# convert 'room type' to numerical values\n",
    "df['room_type_num'] = df['room type'].map({'Entire home/apt': 0, 'Private room': 1, 'Shared room': 2, 'Hotel room': 3})\n",
    "\n",
    "# save the updated dataset\n",
    "df.to_csv('Airbnb_Open_Data_updated.csv', index=False)\n",
    "\n",
    "# verify the result\n",
    "print(df['room type'].unique())"
   ]
  },
  {
   "cell_type": "code",
   "execution_count": 13,
   "id": "31db2eb0",
   "metadata": {},
   "outputs": [],
   "source": [
    "#Task 3.\n",
    "# remove records with neighbourhood group of Bronx or Queens\n",
    "df = df[(df['neighbourhood'] != 'Bronx') & (df['neighbourhood'] != 'Queens')]\n",
    "\n",
    "# save the updated dataset back to the original file\n",
    "df.to_csv('Airbnb_Open_Data_updated.csv', index=False)\n"
   ]
  },
  {
   "cell_type": "code",
   "execution_count": 14,
   "id": "e55f10cb",
   "metadata": {},
   "outputs": [],
   "source": [
    "#Task 4.\n",
    "# remove all rows with missing data\n",
    "df = df.dropna()\n",
    "\n",
    "# save the cleaned data back to the original file\n",
    "df.to_csv('Airbnb_Open_Data_updated.csv', index=False)"
   ]
  },
  {
   "cell_type": "code",
   "execution_count": 17,
   "id": "faeff239",
   "metadata": {},
   "outputs": [],
   "source": [
    "# An error was occuring for task 5 - needed to reset index\n",
    "df = df.reset_index(drop=True)\n"
   ]
  },
  {
   "cell_type": "code",
   "execution_count": 22,
   "id": "bd45f1e9",
   "metadata": {},
   "outputs": [
    {
     "name": "stdout",
     "output_type": "stream",
     "text": [
      "        id                                              NAME      host id  \\\n",
      "0  1001254                Clean & quiet apt home by the park  80014485718   \n",
      "1  1002102                             Skylit Midtown Castle  52335172823   \n",
      "2  1002403               THE VILLAGE OF HARLEM....NEW YORK !  78829239556   \n",
      "3  1002755                                               NaN  85098326012   \n",
      "4  1003689  Entire Apt: Spacious Studio/Loft by central park  92037596077   \n",
      "\n",
      "  host_identity_verified host name neighbourhood group neighbourhood  \\\n",
      "0            unconfirmed  Madaline            Brooklyn    Kensington   \n",
      "1               verified     Jenna           Manhattan       Midtown   \n",
      "2                    NaN     Elise           Manhattan        Harlem   \n",
      "3            unconfirmed     Garry            Brooklyn  Clinton Hill   \n",
      "4               verified    Lyndon           Manhattan   East Harlem   \n",
      "\n",
      "        lat      long        country  ... minimum nights number of reviews  \\\n",
      "0  40.64749 -73.97237  United States  ...           10.0               9.0   \n",
      "1  40.75362 -73.98377  United States  ...           30.0              45.0   \n",
      "2  40.80902 -73.94190  United States  ...            3.0               0.0   \n",
      "3  40.68514 -73.95976  United States  ...           30.0             270.0   \n",
      "4  40.79851 -73.94399  United States  ...           10.0               9.0   \n",
      "\n",
      "  last review reviews per month  review rate number  \\\n",
      "0  10/19/2021              0.21                 4.0   \n",
      "1   5/21/2022              0.38                 4.0   \n",
      "2         NaN               NaN                 5.0   \n",
      "3   7/05/2019              4.64                 4.0   \n",
      "4  11/19/2018              0.10                 3.0   \n",
      "\n",
      "  calculated host listings count availability 365  \\\n",
      "0                            6.0            286.0   \n",
      "1                            2.0            228.0   \n",
      "2                            1.0            352.0   \n",
      "3                            1.0            322.0   \n",
      "4                            1.0            289.0   \n",
      "\n",
      "                                         house_rules  license review_category  \n",
      "0  Clean up and treat the home the way you'd like...      NaN     Low popular  \n",
      "1  Pet friendly but please confirm with me if the...      NaN     Low popular  \n",
      "2  I encourage you to use my kitchen, cooking and...      NaN            Poor  \n",
      "3                                                NaN      NaN       Excellent  \n",
      "4  Please no smoking in the house, porch or on th...      NaN     Low popular  \n",
      "\n",
      "[5 rows x 27 columns]\n"
     ]
    }
   ],
   "source": [
    "# Task 5.\n",
    "# create a new column 'review_category' and assign values based on the number of reviews\n",
    "df['review_category'] = pd.cut(df['number of reviews'], \n",
    "                               bins=[-1, 0, 50, 100, 200, np.inf], \n",
    "                               labels=['Poor', 'Low popular', 'Moderate popular', 'Very popular', 'Excellent'])\n",
    "print(df.head())"
   ]
  },
  {
   "cell_type": "code",
   "execution_count": 41,
   "id": "cfdefbcd",
   "metadata": {},
   "outputs": [
    {
     "name": "stdout",
     "output_type": "stream",
     "text": [
      "The average price for a listing that was constructed between 2010 and 2020 inclusive is $623.29\n"
     ]
    },
    {
     "name": "stderr",
     "output_type": "stream",
     "text": [
      "C:\\Users\\kevin\\AppData\\Local\\Temp\\ipykernel_41356\\1301057837.py:6: FutureWarning: The default value of regex will change from True to False in a future version. In addition, single character regular expressions will *not* be treated as literal strings when regex=True.\n",
      "  filtered_df['price'] = filtered_df['price'].str.replace('$', '')\n",
      "C:\\Users\\kevin\\AppData\\Local\\Temp\\ipykernel_41356\\1301057837.py:6: SettingWithCopyWarning: \n",
      "A value is trying to be set on a copy of a slice from a DataFrame.\n",
      "Try using .loc[row_indexer,col_indexer] = value instead\n",
      "\n",
      "See the caveats in the documentation: https://pandas.pydata.org/pandas-docs/stable/user_guide/indexing.html#returning-a-view-versus-a-copy\n",
      "  filtered_df['price'] = filtered_df['price'].str.replace('$', '')\n",
      "C:\\Users\\kevin\\AppData\\Local\\Temp\\ipykernel_41356\\1301057837.py:9: SettingWithCopyWarning: \n",
      "A value is trying to be set on a copy of a slice from a DataFrame.\n",
      "Try using .loc[row_indexer,col_indexer] = value instead\n",
      "\n",
      "See the caveats in the documentation: https://pandas.pydata.org/pandas-docs/stable/user_guide/indexing.html#returning-a-view-versus-a-copy\n",
      "  filtered_df['price'] = filtered_df['price'].str.replace(',', '')\n",
      "C:\\Users\\kevin\\AppData\\Local\\Temp\\ipykernel_41356\\1301057837.py:12: SettingWithCopyWarning: \n",
      "A value is trying to be set on a copy of a slice from a DataFrame.\n",
      "Try using .loc[row_indexer,col_indexer] = value instead\n",
      "\n",
      "See the caveats in the documentation: https://pandas.pydata.org/pandas-docs/stable/user_guide/indexing.html#returning-a-view-versus-a-copy\n",
      "  filtered_df['price'] = pd.to_numeric(filtered_df['price'])\n"
     ]
    }
   ],
   "source": [
    "# Task 6.\n",
    "# Filter the dataframe to only include rows where Construction year is between 2010 and 2020\n",
    "filtered_df = df[(df['Construction year'] >= 2010) & (df['Construction year'] <= 2020)]\n",
    "\n",
    "# Remove dollar sign from 'price' column\n",
    "filtered_df['price'] = filtered_df['price'].str.replace('$', '')\n",
    "\n",
    "# Remove commas from the 'price' column\n",
    "filtered_df['price'] = filtered_df['price'].str.replace(',', '')\n",
    "\n",
    "# Convert the 'price' column to a numeric type\n",
    "filtered_df['price'] = pd.to_numeric(filtered_df['price'])\n",
    "\n",
    "\n",
    "# Calculate the average price of the filtered rows\n",
    "average_price = filtered_df['price'].mean()\n",
    "\n",
    "# Print the result\n",
    "print(f\"The average price for a listing that was constructed between 2010 and 2020 inclusive is ${average_price:.2f}\")\n",
    "\n",
    "# warnings are noted for not using the .loc accessor, but I couldn't get the code to work using it."
   ]
  },
  {
   "cell_type": "code",
   "execution_count": 52,
   "id": "fdb5c35f",
   "metadata": {},
   "outputs": [
    {
     "name": "stdout",
     "output_type": "stream",
     "text": [
      "0     11.320698\n",
      "5      0.887661\n",
      "6      7.321180\n",
      "9      6.085313\n",
      "13     8.956407\n",
      "Name: distance_to_empire, dtype: float64\n"
     ]
    },
    {
     "name": "stderr",
     "output_type": "stream",
     "text": [
      "C:\\Users\\kevin\\AppData\\Local\\Temp\\ipykernel_41356\\201363644.py:18: SettingWithCopyWarning: \n",
      "A value is trying to be set on a copy of a slice from a DataFrame.\n",
      "Try using .loc[row_indexer,col_indexer] = value instead\n",
      "\n",
      "See the caveats in the documentation: https://pandas.pydata.org/pandas-docs/stable/user_guide/indexing.html#returning-a-view-versus-a-copy\n",
      "  filtered_df['distance_to_empire'] = filtered_df.apply(lambda x: haversine(x['lat'], x['long'], empire_lat, empire_lon), axis=1)\n"
     ]
    }
   ],
   "source": [
    "#Task 7.\n",
    "from math import radians, sin, cos, sqrt, atan2\n",
    "\n",
    "# Define the latitude and longitude of the Empire State Building\n",
    "empire_lat, empire_lon = 40.748817, -73.985428\n",
    "\n",
    "# Calculate the distance from each listing to the Empire State Building using the haversine formula\n",
    "def haversine(lat1, lon1, lat2, lon2):\n",
    "    R = 6371  # Radius of the earth in km\n",
    "    dLat = radians(lat2 - lat1)\n",
    "    dLon = radians(lon2 - lon1)\n",
    "    a = sin(dLat / 2) * sin(dLat / 2) + cos(radians(lat1)) \\\n",
    "        * cos(radians(lat2)) * sin(dLon / 2) * sin(dLon / 2)\n",
    "    c = 2 * atan2(sqrt(a), sqrt(1 - a))\n",
    "    distance = R * c  # Distance in km\n",
    "    return distance\n",
    "\n",
    "filtered_df['distance_to_empire'] = filtered_df.apply(lambda x: haversine(x['lat'], x['long'], empire_lat, empire_lon), axis=1)\n",
    "print(filtered_df['distance_to_empire'].head())"
   ]
  },
  {
   "cell_type": "code",
   "execution_count": 53,
   "id": "98feea25",
   "metadata": {},
   "outputs": [
    {
     "name": "stdout",
     "output_type": "stream",
     "text": [
      "neighbourhood\n",
      "Allerton           3.5\n",
      "Arden Heights      4.0\n",
      "Arrochar           4.0\n",
      "Arverne            3.0\n",
      "Astoria            3.0\n",
      "                  ... \n",
      "Windsor Terrace    3.0\n",
      "Woodhaven          3.0\n",
      "Woodlawn           3.0\n",
      "Woodrow            5.0\n",
      "Woodside           3.0\n",
      "Name: review rate number, Length: 224, dtype: float64\n"
     ]
    }
   ],
   "source": [
    "#Task 8.\n",
    "#Group listings by neighnourhood and find the median rating number for each\n",
    "median_rating = df.groupby('neighbourhood')['review rate number'].median()\n",
    "print(median_rating)\n"
   ]
  }
 ],
 "metadata": {
  "kernelspec": {
   "display_name": "Python 3 (ipykernel)",
   "language": "python",
   "name": "python3"
  },
  "language_info": {
   "codemirror_mode": {
    "name": "ipython",
    "version": 3
   },
   "file_extension": ".py",
   "mimetype": "text/x-python",
   "name": "python",
   "nbconvert_exporter": "python",
   "pygments_lexer": "ipython3",
   "version": "3.9.13"
  }
 },
 "nbformat": 4,
 "nbformat_minor": 5
}
